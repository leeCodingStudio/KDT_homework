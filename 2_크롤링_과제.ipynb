{
 "cells": [
  {
   "cell_type": "markdown",
   "id": "f4be4ec7",
   "metadata": {},
   "source": [
    "### 과제1\n",
    "* 바나프레소(https://banapresso.com/) 매장명, 주소를 크롤링해서 엑셀로 내보내기"
   ]
  },
  {
   "cell_type": "code",
   "execution_count": 42,
   "id": "7c0b6366",
   "metadata": {},
   "outputs": [
    {
     "name": "stdout",
     "output_type": "stream",
     "text": [
      "Requirement already satisfied: pandas in c:\\users\\acer\\appdata\\local\\programs\\python\\python38\\lib\\site-packages (2.0.2)"
     ]
    },
    {
     "name": "stderr",
     "output_type": "stream",
     "text": [
      "WARNING: You are using pip version 20.2.1; however, version 23.1.2 is available.\n",
      "You should consider upgrading via the 'c:\\users\\acer\\appdata\\local\\programs\\python\\python38\\python.exe -m pip install --upgrade pip' command.\n"
     ]
    },
    {
     "name": "stdout",
     "output_type": "stream",
     "text": [
      "\n",
      "Requirement already satisfied: python-dateutil>=2.8.2 in c:\\users\\acer\\appdata\\local\\programs\\python\\python38\\lib\\site-packages (from pandas) (2.8.2)\n",
      "Requirement already satisfied: pytz>=2020.1 in c:\\users\\acer\\appdata\\local\\programs\\python\\python38\\lib\\site-packages (from pandas) (2023.3)\n",
      "Requirement already satisfied: numpy>=1.20.3; python_version < \"3.10\" in c:\\users\\acer\\appdata\\local\\programs\\python\\python38\\lib\\site-packages (from pandas) (1.24.2)\n",
      "Requirement already satisfied: tzdata>=2022.1 in c:\\users\\acer\\appdata\\local\\programs\\python\\python38\\lib\\site-packages (from pandas) (2023.3)\n",
      "Requirement already satisfied: six>=1.5 in c:\\users\\acer\\appdata\\local\\programs\\python\\python38\\lib\\site-packages (from python-dateutil>=2.8.2->pandas) (1.16.0)\n"
     ]
    }
   ],
   "source": [
    "!pip install pandas"
   ]
  },
  {
   "cell_type": "code",
   "execution_count": 1,
   "id": "12c34122",
   "metadata": {},
   "outputs": [],
   "source": [
    "import pandas as pd\n",
    "import chromedriver_autoinstaller\n",
    "import time\n",
    "from selenium import webdriver\n",
    "from selenium.webdriver.common.by import By\n",
    "from urllib.request import Request, urlopen"
   ]
  },
  {
   "cell_type": "code",
   "execution_count": 2,
   "id": "2da2a168",
   "metadata": {},
   "outputs": [],
   "source": [
    "def store_append(dic_list):\n",
    "    store_list_xpath = '/html/body/div/div/div/div/article/div/section/div/div[1]/div[2]'\n",
    "    store_list = driver.find_element(By.XPATH, store_list_xpath)\n",
    "    store_names = store_list.find_elements(By.CSS_SELECTOR, '.store_name_map > i')\n",
    "    store_addresses = store_list.find_elements(By.CSS_SELECTOR, '.store_name_map > span')\n",
    "    for store_name, store_address in zip(store_names, store_addresses):\n",
    "        dic = {'매장명':store_name.text, '주소':store_address.text}\n",
    "        dic_list.append(dic)"
   ]
  },
  {
   "cell_type": "code",
   "execution_count": 3,
   "id": "b4d251c5",
   "metadata": {},
   "outputs": [],
   "source": [
    "def store_list():\n",
    "    dic_list = []\n",
    "    pagination_xpath = '/html/body/div/div/div/div/article/div/section/div/div[1]/div[3]/ul'\n",
    "    next_page_xpath = '/html/body/div/div/div/div/article/div/section/div/div[1]/div[3]/span[2]'\n",
    "\n",
    "    while(True):\n",
    "        pagination = driver.find_element(By.XPATH, pagination_xpath)\n",
    "        pages = pagination.find_elements(By.CSS_SELECTOR, 'li > a')\n",
    "\n",
    "        for i in range(len(pages)-1):\n",
    "            if pages[i].get_attribute('class') == 'on':\n",
    "                store_append(dic_list)\n",
    "                pages[i+1].click()\n",
    "                time.sleep(1)\n",
    "        store_append(dic_list)\n",
    "\n",
    "        try:\n",
    "            next_page = driver.find_element(By.XPATH, next_page_xpath).click()\n",
    "        except:\n",
    "            break\n",
    "\n",
    "        time.sleep(1)\n",
    "        \n",
    "    return dic_list"
   ]
  },
  {
   "cell_type": "code",
   "execution_count": 4,
   "id": "49358fe6",
   "metadata": {},
   "outputs": [],
   "source": [
    "driver = webdriver.Chrome()\n",
    "driver.implicitly_wait(3)\n",
    "\n",
    "url = 'https://banapresso.com/store'\n",
    "driver.get(url)\n",
    "time.sleep(3)\n",
    "\n",
    "stores = store_list()"
   ]
  },
  {
   "cell_type": "code",
   "execution_count": 5,
   "id": "c300ebdc",
   "metadata": {},
   "outputs": [
    {
     "data": {
      "text/html": [
       "<div>\n",
       "<style scoped>\n",
       "    .dataframe tbody tr th:only-of-type {\n",
       "        vertical-align: middle;\n",
       "    }\n",
       "\n",
       "    .dataframe tbody tr th {\n",
       "        vertical-align: top;\n",
       "    }\n",
       "\n",
       "    .dataframe thead th {\n",
       "        text-align: right;\n",
       "    }\n",
       "</style>\n",
       "<table border=\"1\" class=\"dataframe\">\n",
       "  <thead>\n",
       "    <tr style=\"text-align: right;\">\n",
       "      <th></th>\n",
       "      <th>매장명</th>\n",
       "      <th>주소</th>\n",
       "    </tr>\n",
       "  </thead>\n",
       "  <tbody>\n",
       "    <tr>\n",
       "      <th>0</th>\n",
       "      <td>가산디지털단지역점</td>\n",
       "      <td>서울시 금천구 가산동 60-3</td>\n",
       "    </tr>\n",
       "    <tr>\n",
       "      <th>1</th>\n",
       "      <td>강남구청점</td>\n",
       "      <td>서울 강남구 청담동 45-4</td>\n",
       "    </tr>\n",
       "    <tr>\n",
       "      <th>2</th>\n",
       "      <td>강남역사거리점</td>\n",
       "      <td>서울특별시 강남구 역삼동 820-10</td>\n",
       "    </tr>\n",
       "    <tr>\n",
       "      <th>3</th>\n",
       "      <td>강남역점</td>\n",
       "      <td>서울 강남구 역삼동822-7</td>\n",
       "    </tr>\n",
       "    <tr>\n",
       "      <th>4</th>\n",
       "      <td>강남점</td>\n",
       "      <td>서울 강남구 테헤란로4길 46 (역삼동 826-37) 쌍용 플래티넘, 1층</td>\n",
       "    </tr>\n",
       "    <tr>\n",
       "      <th>...</th>\n",
       "      <td>...</td>\n",
       "      <td>...</td>\n",
       "    </tr>\n",
       "    <tr>\n",
       "      <th>105</th>\n",
       "      <td>가산파트너스타워점</td>\n",
       "      <td></td>\n",
       "    </tr>\n",
       "    <tr>\n",
       "      <th>106</th>\n",
       "      <td>구로우림1차점</td>\n",
       "      <td></td>\n",
       "    </tr>\n",
       "    <tr>\n",
       "      <th>107</th>\n",
       "      <td>문정테라타워점</td>\n",
       "      <td>서울특별시 송파구 송파대로 167, 문정역테라타워 A동 G123호</td>\n",
       "    </tr>\n",
       "    <tr>\n",
       "      <th>108</th>\n",
       "      <td>시흥은계점</td>\n",
       "      <td>경기도 시흥시 은계번영길 11,111호</td>\n",
       "    </tr>\n",
       "    <tr>\n",
       "      <th>109</th>\n",
       "      <td>원주무실점</td>\n",
       "      <td></td>\n",
       "    </tr>\n",
       "  </tbody>\n",
       "</table>\n",
       "<p>110 rows × 2 columns</p>\n",
       "</div>"
      ],
      "text/plain": [
       "           매장명                                         주소\n",
       "0    가산디지털단지역점                           서울시 금천구 가산동 60-3\n",
       "1        강남구청점                            서울 강남구 청담동 45-4\n",
       "2      강남역사거리점                       서울특별시 강남구 역삼동 820-10\n",
       "3         강남역점                            서울 강남구 역삼동822-7\n",
       "4          강남점  서울 강남구 테헤란로4길 46 (역삼동 826-37) 쌍용 플래티넘, 1층\n",
       "..         ...                                        ...\n",
       "105  가산파트너스타워점                                           \n",
       "106    구로우림1차점                                           \n",
       "107    문정테라타워점       서울특별시 송파구 송파대로 167, 문정역테라타워 A동 G123호\n",
       "108      시흥은계점                      경기도 시흥시 은계번영길 11,111호\n",
       "109      원주무실점                                           \n",
       "\n",
       "[110 rows x 2 columns]"
      ]
     },
     "execution_count": 5,
     "metadata": {},
     "output_type": "execute_result"
    }
   ],
   "source": [
    "df_store = pd.DataFrame(stores)\n",
    "df_store"
   ]
  },
  {
   "cell_type": "code",
   "execution_count": 6,
   "id": "6394497b",
   "metadata": {},
   "outputs": [],
   "source": [
    "df_store.to_excel('store.xlsx')"
   ]
  },
  {
   "cell_type": "markdown",
   "id": "02662bb3",
   "metadata": {},
   "source": [
    "### 과제2\n",
    "* 쇼핑몰을 하나 선정하여 카테고리를 정해 크롤링하고 해당 카테고리 사진을 폴더로 정리하기\n",
    "* mysql에 테이블을 만들고 카테고리와 파일경로를 저장"
   ]
  },
  {
   "cell_type": "code",
   "execution_count": 2,
   "id": "908fa2fc",
   "metadata": {},
   "outputs": [],
   "source": [
    "import MySQLdb\n",
    "import os\n",
    "import pathlib"
   ]
  },
  {
   "cell_type": "code",
   "execution_count": 3,
   "id": "9e340fcf",
   "metadata": {},
   "outputs": [],
   "source": [
    "class ShopDAO:\n",
    "    def __init__(self):\n",
    "        self.db = None\n",
    "        \n",
    "    def connect(self):\n",
    "        self.db = MySQLdb.connect('localhost', 'root', '1234', 'kdt')\n",
    "        \n",
    "    def disconnect(self):\n",
    "        self.db.close()\n",
    "        \n",
    "    def table(self):\n",
    "        self.connect()\n",
    "        cur = self.db.cursor()\n",
    "        sql = \"\"\"\n",
    "        CREATE TABLE shop (\n",
    "            id INT PRIMARY KEY AUTO_INCREMENT,\n",
    "            name VARCHAR(250),\n",
    "            category VARCHAR(50),\n",
    "            path VARCHAR(250)\n",
    "        )\n",
    "        \"\"\"\n",
    "        try:\n",
    "            cur.execute(sql)\n",
    "        except:\n",
    "            print('이미 존재하는 테이블')\n",
    "        finally:\n",
    "            self.db.commit()\n",
    "            self.disconnect()\n",
    "        \n",
    "    def insert(self, name, category, path):\n",
    "        self.connect()\n",
    "        cur = self.db.cursor()\n",
    "        sql = \"insert into shop (name, category, path) values(%s, %s, %s)\"\n",
    "        \n",
    "        data = (name, category, path)\n",
    "        \n",
    "        result = cur.execute(sql, data)\n",
    "        self.db.commit()\n",
    "        self.disconnect()"
   ]
  },
  {
   "cell_type": "code",
   "execution_count": 4,
   "id": "548be0ab",
   "metadata": {},
   "outputs": [],
   "source": [
    "shopDAO = ShopDAO()"
   ]
  },
  {
   "cell_type": "code",
   "execution_count": 6,
   "id": "a86e7dab",
   "metadata": {},
   "outputs": [],
   "source": [
    "# 테이블 생성\n",
    "shopDAO.table()"
   ]
  },
  {
   "cell_type": "code",
   "execution_count": 8,
   "id": "89c63497",
   "metadata": {},
   "outputs": [],
   "source": [
    "driver = webdriver.Chrome()\n",
    "driver.implicitly_wait(3)\n",
    "\n",
    "url = 'https://www.29cm.co.kr/shop/category/list?category_large_code=272100100&category_medium_code=272109100&sort=latest&category_small_code=&page=1&brand=&min_price=&max_price=&is_free_shipping=&is_discount=&is_soldout=&colors='\n",
    "driver.get(url)\n",
    "time.sleep(3)\n",
    "\n",
    "content_list = []\n",
    "\n",
    "for i in range(4, 9):\n",
    "    category_xpath = f'/html/body/shop-root/div/section/ui-list-category/div/ui-category-option/div/ruler-nav-category/div/div/div/ul/li[2]/ul/li[{i}]/button'\n",
    "    category_element = driver.find_element(By.XPATH, category_xpath)\n",
    "    \n",
    "    \n",
    "    category = category_element.text\n",
    "    if not os.path.exists(category):\n",
    "        os.mkdir(category)\n",
    "        \n",
    "    content_xpath = '/html/body/shop-root/div/section/ui-list-category/div/div/div[3]/ul'\n",
    "    content = driver.find_element(By.XPATH, content_xpath)\n",
    "    image_elements = content.find_elements(By.TAG_NAME, 'img')\n",
    "    name_elements = content.find_elements(By.CSS_SELECTOR, 'div.name')\n",
    "    \n",
    "    image_urls = []\n",
    "    for image_element in image_elements:\n",
    "        image_url = image_element.get_attribute('src')\n",
    "        image_urls.append(image_url)\n",
    "    \n",
    "    for image_url, name_element in zip(image_urls, name_elements):\n",
    "        name = name_element.text\n",
    "        \n",
    "        filename = image_url.split('/')[-1].split('?')[0]\n",
    "        image_byte = Request(image_url, headers = {'User-Agent':'Mozilla/5.0 (Windows NT 10.0; Win64; x64) AppleWebKit/537.36 (KHTML, like Gecko) Chrome/114.0.0.0 Safari/537.36'})\n",
    "        path = f'./{category}/{filename}'\n",
    "        f= open(path, 'wb')\n",
    "        f.write(urlopen(image_byte).read())\n",
    "        f.close()\n",
    "        \n",
    "        \n",
    "        shopDAO.insert(name, category, path)\n",
    "        \n",
    "    next_category_xpath = f'/html/body/shop-root/div/section/ui-list-category/div/ui-category-option/div/ruler-nav-category/div/div/div/ul/li[2]/ul/li[{i+1}]/button'\n",
    "    try:\n",
    "        driver.find_element(By.XPATH, next_category_xpath).click()\n",
    "    except:\n",
    "        break\n"
   ]
  },
  {
   "cell_type": "code",
   "execution_count": null,
   "id": "ee878241",
   "metadata": {},
   "outputs": [],
   "source": []
  }
 ],
 "metadata": {
  "kernelspec": {
   "display_name": "Python 3 (ipykernel)",
   "language": "python",
   "name": "python3"
  },
  "language_info": {
   "codemirror_mode": {
    "name": "ipython",
    "version": 3
   },
   "file_extension": ".py",
   "mimetype": "text/x-python",
   "name": "python",
   "nbconvert_exporter": "python",
   "pygments_lexer": "ipython3",
   "version": "3.8.6"
  }
 },
 "nbformat": 4,
 "nbformat_minor": 5
}
