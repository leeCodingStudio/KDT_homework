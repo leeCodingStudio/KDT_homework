{
  "nbformat": 4,
  "nbformat_minor": 0,
  "metadata": {
    "colab": {
      "provenance": [],
      "gpuType": "T4",
      "mount_file_id": "1PYt_TQ18VbNhLRIt6QhWeK6RDK8RNu7C",
      "authorship_tag": "ABX9TyNiI/ld/XdZIzmgiGC6Bknj",
      "include_colab_link": true
    },
    "kernelspec": {
      "name": "python3",
      "display_name": "Python 3"
    },
    "language_info": {
      "name": "python"
    },
    "accelerator": "GPU"
  },
  "cells": [
    {
      "cell_type": "markdown",
      "metadata": {
        "id": "view-in-github",
        "colab_type": "text"
      },
      "source": [
        "<a href=\"https://colab.research.google.com/github/leeCodingStudio/KDT_homework/blob/master/4_%EC%9B%8C%EB%93%9C_%EC%9E%84%EB%B2%A0%EB%94%A9_%EA%B3%BC%EC%A0%9C.ipynb\" target=\"_parent\"><img src=\"https://colab.research.google.com/assets/colab-badge.svg\" alt=\"Open In Colab\"/></a>"
      ]
    },
    {
      "cell_type": "code",
      "execution_count": 1,
      "metadata": {
        "id": "FpAtRML-Yimq"
      },
      "outputs": [],
      "source": [
        "import pandas as pd\n",
        "import numpy as np"
      ]
    },
    {
      "cell_type": "code",
      "source": [
        "f = open('/content/drive/MyDrive/KDT/5. 자연어처리/modi_output.txt', 'r')\n",
        "dataset = f.read()\n",
        "dataset = dataset.split('\\t')\n",
        "f.close()"
      ],
      "metadata": {
        "id": "eMrGNnusYwmi"
      },
      "execution_count": 2,
      "outputs": []
    },
    {
      "cell_type": "code",
      "source": [
        "!pip install konlpy"
      ],
      "metadata": {
        "colab": {
          "base_uri": "https://localhost:8080/"
        },
        "id": "TuCdjFtq9OhD",
        "outputId": "6899d308-76a9-4bfa-dde8-edff62171054"
      },
      "execution_count": 3,
      "outputs": [
        {
          "output_type": "stream",
          "name": "stdout",
          "text": [
            "Collecting konlpy\n",
            "  Downloading konlpy-0.6.0-py2.py3-none-any.whl (19.4 MB)\n",
            "\u001b[2K     \u001b[90m━━━━━━━━━━━━━━━━━━━━━━━━━━━━━━━━━━━━━━━━\u001b[0m \u001b[32m19.4/19.4 MB\u001b[0m \u001b[31m28.5 MB/s\u001b[0m eta \u001b[36m0:00:00\u001b[0m\n",
            "\u001b[?25hCollecting JPype1>=0.7.0 (from konlpy)\n",
            "  Downloading JPype1-1.4.1-cp310-cp310-manylinux_2_12_x86_64.manylinux2010_x86_64.whl (465 kB)\n",
            "\u001b[2K     \u001b[90m━━━━━━━━━━━━━━━━━━━━━━━━━━━━━━━━━━━━━━\u001b[0m \u001b[32m465.3/465.3 kB\u001b[0m \u001b[31m17.7 MB/s\u001b[0m eta \u001b[36m0:00:00\u001b[0m\n",
            "\u001b[?25hRequirement already satisfied: lxml>=4.1.0 in /usr/local/lib/python3.10/dist-packages (from konlpy) (4.9.2)\n",
            "Requirement already satisfied: numpy>=1.6 in /usr/local/lib/python3.10/dist-packages (from konlpy) (1.22.4)\n",
            "Requirement already satisfied: packaging in /usr/local/lib/python3.10/dist-packages (from JPype1>=0.7.0->konlpy) (23.1)\n",
            "Installing collected packages: JPype1, konlpy\n",
            "Successfully installed JPype1-1.4.1 konlpy-0.6.0\n"
          ]
        }
      ]
    },
    {
      "cell_type": "code",
      "source": [
        "import re\n",
        "from konlpy.tag import Komoran"
      ],
      "metadata": {
        "id": "-wvVG5Yo7O7s"
      },
      "execution_count": 24,
      "outputs": []
    },
    {
      "cell_type": "code",
      "source": [
        "komoran = Komoran()"
      ],
      "metadata": {
        "id": "wqQ56gFW7jrj"
      },
      "execution_count": 20,
      "outputs": []
    },
    {
      "cell_type": "code",
      "source": [
        "new_dataset = []\n",
        "for i, text in enumerate(dataset):\n",
        "    korean_text = re.sub('[^가-힣ㄱ-ㅎㅏ-ㅣ]', ' ', text)\n",
        "    tokens = komoran.pos(korean_text)\n",
        "    morphemes = [token[0] for token in tokens]\n",
        "    new_dataset.append(' '.join(morphemes))\n",
        "    print(i)"
      ],
      "metadata": {
        "id": "RbvQlRsc726r"
      },
      "execution_count": null,
      "outputs": []
    },
    {
      "cell_type": "code",
      "source": [
        "modi_df = pd.DataFrame({'document':dataset})"
      ],
      "metadata": {
        "id": "oe8bvhhRcPmc"
      },
      "execution_count": 26,
      "outputs": []
    },
    {
      "cell_type": "code",
      "source": [
        "modi_df.to_csv('/content/drive/MyDrive/KDT/5. 자연어처리/modi_output.csv', index=False)"
      ],
      "metadata": {
        "id": "sVc7KJeCT6J9"
      },
      "execution_count": null,
      "outputs": []
    },
    {
      "cell_type": "code",
      "source": [
        "modi_df.replace('', float('NaN'), inplace=True)\n",
        "modi_df.isnull().values.any()"
      ],
      "metadata": {
        "colab": {
          "base_uri": "https://localhost:8080/"
        },
        "id": "59arLXfAc3A3",
        "outputId": "e72d4fff-6494-4680-b95d-2f0108629f37"
      },
      "execution_count": 33,
      "outputs": [
        {
          "output_type": "execute_result",
          "data": {
            "text/plain": [
              "False"
            ]
          },
          "metadata": {},
          "execution_count": 33
        }
      ]
    },
    {
      "cell_type": "code",
      "source": [
        "modi_df"
      ],
      "metadata": {
        "colab": {
          "base_uri": "https://localhost:8080/",
          "height": 424
        },
        "id": "V1fViSD1dUqJ",
        "outputId": "28ef1759-705f-454a-fde0-1a8f55c0de44"
      },
      "execution_count": 34,
      "outputs": [
        {
          "output_type": "execute_result",
          "data": {
            "text/plain": [
              "                                                 document\n",
              "0       자신의 생각을 불명확하게 표현하는 사람들은 생각도 불명확할 가능성이 높다. 따라서 ...\n",
              "1       주제가 아무리 복잡하고 어려울 지라도 필자가 주제에 대해 완벽하게 이해하고 있다면 ...\n",
              "2       진로체험을 위해서 교사 외에도 인솔, 안전 등의 일용직 인력이 필요하다. 재정과 고...\n",
              "3       Mary Footer는 최근에 WTO법의 모순을 해결하기 위해 다섯가지를 제안했다....\n",
              "4       에너지원별 소비 비중 중 전력비중은 지속적으로 증가하였고, 이것은 원자력 발전 설비...\n",
              "...                                                   ...\n",
              "160019  한정애안과 양창영안은 등록제를 제안하고, 장하나안과 유럽연합은 허가제·면허제를 도입...\n",
              "160020  토지이용의 변화로 탄소가 풍부한 유출물 침전과 지표유출수 내 고형물 퇴적은 정비하천...\n",
              "160021  NCATS는 이 외에도 여러 사업들을 진행하는데, 대부분이 공동연구이다. 약물 개발...\n",
              "160022  국내는 평가기술에 대한 과학적 지식, 경제성 분석, 사회적 효과가 하나의 보고서 안...\n",
              "160023  경제위기 발생 이후 대기업의 R&D 투자는 짧은 기간동안 소폭 감소하는데 그쳤으나,...\n",
              "\n",
              "[160024 rows x 1 columns]"
            ],
            "text/html": [
              "\n",
              "  <div id=\"df-c4747524-6d0f-4928-9dc8-79b57263c596\">\n",
              "    <div class=\"colab-df-container\">\n",
              "      <div>\n",
              "<style scoped>\n",
              "    .dataframe tbody tr th:only-of-type {\n",
              "        vertical-align: middle;\n",
              "    }\n",
              "\n",
              "    .dataframe tbody tr th {\n",
              "        vertical-align: top;\n",
              "    }\n",
              "\n",
              "    .dataframe thead th {\n",
              "        text-align: right;\n",
              "    }\n",
              "</style>\n",
              "<table border=\"1\" class=\"dataframe\">\n",
              "  <thead>\n",
              "    <tr style=\"text-align: right;\">\n",
              "      <th></th>\n",
              "      <th>document</th>\n",
              "    </tr>\n",
              "  </thead>\n",
              "  <tbody>\n",
              "    <tr>\n",
              "      <th>0</th>\n",
              "      <td>자신의 생각을 불명확하게 표현하는 사람들은 생각도 불명확할 가능성이 높다. 따라서 ...</td>\n",
              "    </tr>\n",
              "    <tr>\n",
              "      <th>1</th>\n",
              "      <td>주제가 아무리 복잡하고 어려울 지라도 필자가 주제에 대해 완벽하게 이해하고 있다면 ...</td>\n",
              "    </tr>\n",
              "    <tr>\n",
              "      <th>2</th>\n",
              "      <td>진로체험을 위해서 교사 외에도 인솔, 안전 등의 일용직 인력이 필요하다. 재정과 고...</td>\n",
              "    </tr>\n",
              "    <tr>\n",
              "      <th>3</th>\n",
              "      <td>Mary Footer는 최근에 WTO법의 모순을 해결하기 위해 다섯가지를 제안했다....</td>\n",
              "    </tr>\n",
              "    <tr>\n",
              "      <th>4</th>\n",
              "      <td>에너지원별 소비 비중 중 전력비중은 지속적으로 증가하였고, 이것은 원자력 발전 설비...</td>\n",
              "    </tr>\n",
              "    <tr>\n",
              "      <th>...</th>\n",
              "      <td>...</td>\n",
              "    </tr>\n",
              "    <tr>\n",
              "      <th>160019</th>\n",
              "      <td>한정애안과 양창영안은 등록제를 제안하고, 장하나안과 유럽연합은 허가제·면허제를 도입...</td>\n",
              "    </tr>\n",
              "    <tr>\n",
              "      <th>160020</th>\n",
              "      <td>토지이용의 변화로 탄소가 풍부한 유출물 침전과 지표유출수 내 고형물 퇴적은 정비하천...</td>\n",
              "    </tr>\n",
              "    <tr>\n",
              "      <th>160021</th>\n",
              "      <td>NCATS는 이 외에도 여러 사업들을 진행하는데, 대부분이 공동연구이다. 약물 개발...</td>\n",
              "    </tr>\n",
              "    <tr>\n",
              "      <th>160022</th>\n",
              "      <td>국내는 평가기술에 대한 과학적 지식, 경제성 분석, 사회적 효과가 하나의 보고서 안...</td>\n",
              "    </tr>\n",
              "    <tr>\n",
              "      <th>160023</th>\n",
              "      <td>경제위기 발생 이후 대기업의 R&amp;D 투자는 짧은 기간동안 소폭 감소하는데 그쳤으나,...</td>\n",
              "    </tr>\n",
              "  </tbody>\n",
              "</table>\n",
              "<p>160024 rows × 1 columns</p>\n",
              "</div>\n",
              "      <button class=\"colab-df-convert\" onclick=\"convertToInteractive('df-c4747524-6d0f-4928-9dc8-79b57263c596')\"\n",
              "              title=\"Convert this dataframe to an interactive table.\"\n",
              "              style=\"display:none;\">\n",
              "        \n",
              "  <svg xmlns=\"http://www.w3.org/2000/svg\" height=\"24px\"viewBox=\"0 0 24 24\"\n",
              "       width=\"24px\">\n",
              "    <path d=\"M0 0h24v24H0V0z\" fill=\"none\"/>\n",
              "    <path d=\"M18.56 5.44l.94 2.06.94-2.06 2.06-.94-2.06-.94-.94-2.06-.94 2.06-2.06.94zm-11 1L8.5 8.5l.94-2.06 2.06-.94-2.06-.94L8.5 2.5l-.94 2.06-2.06.94zm10 10l.94 2.06.94-2.06 2.06-.94-2.06-.94-.94-2.06-.94 2.06-2.06.94z\"/><path d=\"M17.41 7.96l-1.37-1.37c-.4-.4-.92-.59-1.43-.59-.52 0-1.04.2-1.43.59L10.3 9.45l-7.72 7.72c-.78.78-.78 2.05 0 2.83L4 21.41c.39.39.9.59 1.41.59.51 0 1.02-.2 1.41-.59l7.78-7.78 2.81-2.81c.8-.78.8-2.07 0-2.86zM5.41 20L4 18.59l7.72-7.72 1.47 1.35L5.41 20z\"/>\n",
              "  </svg>\n",
              "      </button>\n",
              "      \n",
              "  <style>\n",
              "    .colab-df-container {\n",
              "      display:flex;\n",
              "      flex-wrap:wrap;\n",
              "      gap: 12px;\n",
              "    }\n",
              "\n",
              "    .colab-df-convert {\n",
              "      background-color: #E8F0FE;\n",
              "      border: none;\n",
              "      border-radius: 50%;\n",
              "      cursor: pointer;\n",
              "      display: none;\n",
              "      fill: #1967D2;\n",
              "      height: 32px;\n",
              "      padding: 0 0 0 0;\n",
              "      width: 32px;\n",
              "    }\n",
              "\n",
              "    .colab-df-convert:hover {\n",
              "      background-color: #E2EBFA;\n",
              "      box-shadow: 0px 1px 2px rgba(60, 64, 67, 0.3), 0px 1px 3px 1px rgba(60, 64, 67, 0.15);\n",
              "      fill: #174EA6;\n",
              "    }\n",
              "\n",
              "    [theme=dark] .colab-df-convert {\n",
              "      background-color: #3B4455;\n",
              "      fill: #D2E3FC;\n",
              "    }\n",
              "\n",
              "    [theme=dark] .colab-df-convert:hover {\n",
              "      background-color: #434B5C;\n",
              "      box-shadow: 0px 1px 3px 1px rgba(0, 0, 0, 0.15);\n",
              "      filter: drop-shadow(0px 1px 2px rgba(0, 0, 0, 0.3));\n",
              "      fill: #FFFFFF;\n",
              "    }\n",
              "  </style>\n",
              "\n",
              "      <script>\n",
              "        const buttonEl =\n",
              "          document.querySelector('#df-c4747524-6d0f-4928-9dc8-79b57263c596 button.colab-df-convert');\n",
              "        buttonEl.style.display =\n",
              "          google.colab.kernel.accessAllowed ? 'block' : 'none';\n",
              "\n",
              "        async function convertToInteractive(key) {\n",
              "          const element = document.querySelector('#df-c4747524-6d0f-4928-9dc8-79b57263c596');\n",
              "          const dataTable =\n",
              "            await google.colab.kernel.invokeFunction('convertToInteractive',\n",
              "                                                     [key], {});\n",
              "          if (!dataTable) return;\n",
              "\n",
              "          const docLinkHtml = 'Like what you see? Visit the ' +\n",
              "            '<a target=\"_blank\" href=https://colab.research.google.com/notebooks/data_table.ipynb>data table notebook</a>'\n",
              "            + ' to learn more about interactive tables.';\n",
              "          element.innerHTML = '';\n",
              "          dataTable['output_type'] = 'display_data';\n",
              "          await google.colab.output.renderOutput(dataTable, element);\n",
              "          const docLink = document.createElement('div');\n",
              "          docLink.innerHTML = docLinkHtml;\n",
              "          element.appendChild(docLink);\n",
              "        }\n",
              "      </script>\n",
              "    </div>\n",
              "  </div>\n",
              "  "
            ]
          },
          "metadata": {},
          "execution_count": 34
        }
      ]
    },
    {
      "cell_type": "code",
      "source": [
        "processed_modi_df = modi_df.drop_duplicates(['document']).reset_index(drop=True)\n",
        "processed_modi_df"
      ],
      "metadata": {
        "colab": {
          "base_uri": "https://localhost:8080/",
          "height": 424
        },
        "id": "jYLZeAPodb10",
        "outputId": "90e73145-7535-4bdd-dfb7-b1d367f000d8"
      },
      "execution_count": 56,
      "outputs": [
        {
          "output_type": "execute_result",
          "data": {
            "text/plain": [
              "                                                 document\n",
              "0       자신의 생각을 불명확하게 표현하는 사람들은 생각도 불명확할 가능성이 높다. 따라서 ...\n",
              "1       주제가 아무리 복잡하고 어려울 지라도 필자가 주제에 대해 완벽하게 이해하고 있다면 ...\n",
              "2       진로체험을 위해서 교사 외에도 인솔, 안전 등의 일용직 인력이 필요하다. 재정과 고...\n",
              "3       Mary Footer는 최근에 WTO법의 모순을 해결하기 위해 다섯가지를 제안했다....\n",
              "4       에너지원별 소비 비중 중 전력비중은 지속적으로 증가하였고, 이것은 원자력 발전 설비...\n",
              "...                                                   ...\n",
              "160019  한정애안과 양창영안은 등록제를 제안하고, 장하나안과 유럽연합은 허가제·면허제를 도입...\n",
              "160020  토지이용의 변화로 탄소가 풍부한 유출물 침전과 지표유출수 내 고형물 퇴적은 정비하천...\n",
              "160021  NCATS는 이 외에도 여러 사업들을 진행하는데, 대부분이 공동연구이다. 약물 개발...\n",
              "160022  국내는 평가기술에 대한 과학적 지식, 경제성 분석, 사회적 효과가 하나의 보고서 안...\n",
              "160023  경제위기 발생 이후 대기업의 R&D 투자는 짧은 기간동안 소폭 감소하는데 그쳤으나,...\n",
              "\n",
              "[160024 rows x 1 columns]"
            ],
            "text/html": [
              "\n",
              "  <div id=\"df-9e5b778c-e0b7-4548-b802-553c2cd6f443\">\n",
              "    <div class=\"colab-df-container\">\n",
              "      <div>\n",
              "<style scoped>\n",
              "    .dataframe tbody tr th:only-of-type {\n",
              "        vertical-align: middle;\n",
              "    }\n",
              "\n",
              "    .dataframe tbody tr th {\n",
              "        vertical-align: top;\n",
              "    }\n",
              "\n",
              "    .dataframe thead th {\n",
              "        text-align: right;\n",
              "    }\n",
              "</style>\n",
              "<table border=\"1\" class=\"dataframe\">\n",
              "  <thead>\n",
              "    <tr style=\"text-align: right;\">\n",
              "      <th></th>\n",
              "      <th>document</th>\n",
              "    </tr>\n",
              "  </thead>\n",
              "  <tbody>\n",
              "    <tr>\n",
              "      <th>0</th>\n",
              "      <td>자신의 생각을 불명확하게 표현하는 사람들은 생각도 불명확할 가능성이 높다. 따라서 ...</td>\n",
              "    </tr>\n",
              "    <tr>\n",
              "      <th>1</th>\n",
              "      <td>주제가 아무리 복잡하고 어려울 지라도 필자가 주제에 대해 완벽하게 이해하고 있다면 ...</td>\n",
              "    </tr>\n",
              "    <tr>\n",
              "      <th>2</th>\n",
              "      <td>진로체험을 위해서 교사 외에도 인솔, 안전 등의 일용직 인력이 필요하다. 재정과 고...</td>\n",
              "    </tr>\n",
              "    <tr>\n",
              "      <th>3</th>\n",
              "      <td>Mary Footer는 최근에 WTO법의 모순을 해결하기 위해 다섯가지를 제안했다....</td>\n",
              "    </tr>\n",
              "    <tr>\n",
              "      <th>4</th>\n",
              "      <td>에너지원별 소비 비중 중 전력비중은 지속적으로 증가하였고, 이것은 원자력 발전 설비...</td>\n",
              "    </tr>\n",
              "    <tr>\n",
              "      <th>...</th>\n",
              "      <td>...</td>\n",
              "    </tr>\n",
              "    <tr>\n",
              "      <th>160019</th>\n",
              "      <td>한정애안과 양창영안은 등록제를 제안하고, 장하나안과 유럽연합은 허가제·면허제를 도입...</td>\n",
              "    </tr>\n",
              "    <tr>\n",
              "      <th>160020</th>\n",
              "      <td>토지이용의 변화로 탄소가 풍부한 유출물 침전과 지표유출수 내 고형물 퇴적은 정비하천...</td>\n",
              "    </tr>\n",
              "    <tr>\n",
              "      <th>160021</th>\n",
              "      <td>NCATS는 이 외에도 여러 사업들을 진행하는데, 대부분이 공동연구이다. 약물 개발...</td>\n",
              "    </tr>\n",
              "    <tr>\n",
              "      <th>160022</th>\n",
              "      <td>국내는 평가기술에 대한 과학적 지식, 경제성 분석, 사회적 효과가 하나의 보고서 안...</td>\n",
              "    </tr>\n",
              "    <tr>\n",
              "      <th>160023</th>\n",
              "      <td>경제위기 발생 이후 대기업의 R&amp;D 투자는 짧은 기간동안 소폭 감소하는데 그쳤으나,...</td>\n",
              "    </tr>\n",
              "  </tbody>\n",
              "</table>\n",
              "<p>160024 rows × 1 columns</p>\n",
              "</div>\n",
              "      <button class=\"colab-df-convert\" onclick=\"convertToInteractive('df-9e5b778c-e0b7-4548-b802-553c2cd6f443')\"\n",
              "              title=\"Convert this dataframe to an interactive table.\"\n",
              "              style=\"display:none;\">\n",
              "        \n",
              "  <svg xmlns=\"http://www.w3.org/2000/svg\" height=\"24px\"viewBox=\"0 0 24 24\"\n",
              "       width=\"24px\">\n",
              "    <path d=\"M0 0h24v24H0V0z\" fill=\"none\"/>\n",
              "    <path d=\"M18.56 5.44l.94 2.06.94-2.06 2.06-.94-2.06-.94-.94-2.06-.94 2.06-2.06.94zm-11 1L8.5 8.5l.94-2.06 2.06-.94-2.06-.94L8.5 2.5l-.94 2.06-2.06.94zm10 10l.94 2.06.94-2.06 2.06-.94-2.06-.94-.94-2.06-.94 2.06-2.06.94z\"/><path d=\"M17.41 7.96l-1.37-1.37c-.4-.4-.92-.59-1.43-.59-.52 0-1.04.2-1.43.59L10.3 9.45l-7.72 7.72c-.78.78-.78 2.05 0 2.83L4 21.41c.39.39.9.59 1.41.59.51 0 1.02-.2 1.41-.59l7.78-7.78 2.81-2.81c.8-.78.8-2.07 0-2.86zM5.41 20L4 18.59l7.72-7.72 1.47 1.35L5.41 20z\"/>\n",
              "  </svg>\n",
              "      </button>\n",
              "      \n",
              "  <style>\n",
              "    .colab-df-container {\n",
              "      display:flex;\n",
              "      flex-wrap:wrap;\n",
              "      gap: 12px;\n",
              "    }\n",
              "\n",
              "    .colab-df-convert {\n",
              "      background-color: #E8F0FE;\n",
              "      border: none;\n",
              "      border-radius: 50%;\n",
              "      cursor: pointer;\n",
              "      display: none;\n",
              "      fill: #1967D2;\n",
              "      height: 32px;\n",
              "      padding: 0 0 0 0;\n",
              "      width: 32px;\n",
              "    }\n",
              "\n",
              "    .colab-df-convert:hover {\n",
              "      background-color: #E2EBFA;\n",
              "      box-shadow: 0px 1px 2px rgba(60, 64, 67, 0.3), 0px 1px 3px 1px rgba(60, 64, 67, 0.15);\n",
              "      fill: #174EA6;\n",
              "    }\n",
              "\n",
              "    [theme=dark] .colab-df-convert {\n",
              "      background-color: #3B4455;\n",
              "      fill: #D2E3FC;\n",
              "    }\n",
              "\n",
              "    [theme=dark] .colab-df-convert:hover {\n",
              "      background-color: #434B5C;\n",
              "      box-shadow: 0px 1px 3px 1px rgba(0, 0, 0, 0.15);\n",
              "      filter: drop-shadow(0px 1px 2px rgba(0, 0, 0, 0.3));\n",
              "      fill: #FFFFFF;\n",
              "    }\n",
              "  </style>\n",
              "\n",
              "      <script>\n",
              "        const buttonEl =\n",
              "          document.querySelector('#df-9e5b778c-e0b7-4548-b802-553c2cd6f443 button.colab-df-convert');\n",
              "        buttonEl.style.display =\n",
              "          google.colab.kernel.accessAllowed ? 'block' : 'none';\n",
              "\n",
              "        async function convertToInteractive(key) {\n",
              "          const element = document.querySelector('#df-9e5b778c-e0b7-4548-b802-553c2cd6f443');\n",
              "          const dataTable =\n",
              "            await google.colab.kernel.invokeFunction('convertToInteractive',\n",
              "                                                     [key], {});\n",
              "          if (!dataTable) return;\n",
              "\n",
              "          const docLinkHtml = 'Like what you see? Visit the ' +\n",
              "            '<a target=\"_blank\" href=https://colab.research.google.com/notebooks/data_table.ipynb>data table notebook</a>'\n",
              "            + ' to learn more about interactive tables.';\n",
              "          element.innerHTML = '';\n",
              "          dataTable['output_type'] = 'display_data';\n",
              "          await google.colab.output.renderOutput(dataTable, element);\n",
              "          const docLink = document.createElement('div');\n",
              "          docLink.innerHTML = docLinkHtml;\n",
              "          element.appendChild(docLink);\n",
              "        }\n",
              "      </script>\n",
              "    </div>\n",
              "  </div>\n",
              "  "
            ]
          },
          "metadata": {},
          "execution_count": 56
        }
      ]
    },
    {
      "cell_type": "code",
      "source": [
        "processed_modi_df['document'] = processed_modi_df['document'].str.replace('[^가-힣]', ' ')\n",
        "processed_modi_df"
      ],
      "metadata": {
        "colab": {
          "base_uri": "https://localhost:8080/",
          "height": 460
        },
        "id": "eHghRXHQdfrv",
        "outputId": "4d7321cb-9bf7-4afa-a2ed-e6ca3c7f51b0"
      },
      "execution_count": 57,
      "outputs": [
        {
          "output_type": "stream",
          "name": "stderr",
          "text": [
            "<ipython-input-57-19a3bfad5dfa>:1: FutureWarning: The default value of regex will change from True to False in a future version.\n",
            "  processed_modi_df['document'] = processed_modi_df['document'].str.replace('[^가-힣]', ' ')\n"
          ]
        },
        {
          "output_type": "execute_result",
          "data": {
            "text/plain": [
              "                                                 document\n",
              "0       자신의 생각을 불명확하게 표현하는 사람들은 생각도 불명확할 가능성이 높다  따라서 ...\n",
              "1       주제가 아무리 복잡하고 어려울 지라도 필자가 주제에 대해 완벽하게 이해하고 있다면 ...\n",
              "2       진로체험을 위해서 교사 외에도 인솔  안전 등의 일용직 인력이 필요하다  재정과 고...\n",
              "3                  는 최근에    법의 모순을 해결하기 위해 다섯가지를 제안했다 ...\n",
              "4       에너지원별 소비 비중 중 전력비중은 지속적으로 증가하였고  이것은 원자력 발전 설비...\n",
              "...                                                   ...\n",
              "160019  한정애안과 양창영안은 등록제를 제안하고  장하나안과 유럽연합은 허가제 면허제를 도입...\n",
              "160020  토지이용의 변화로 탄소가 풍부한 유출물 침전과 지표유출수 내 고형물 퇴적은 정비하천...\n",
              "160021       는 이 외에도 여러 사업들을 진행하는데  대부분이 공동연구이다  약물 개발...\n",
              "160022  국내는 평가기술에 대한 과학적 지식  경제성 분석  사회적 효과가 하나의 보고서 안...\n",
              "160023  경제위기 발생 이후 대기업의     투자는 짧은 기간동안 소폭 감소하는데 그쳤으나 ...\n",
              "\n",
              "[160024 rows x 1 columns]"
            ],
            "text/html": [
              "\n",
              "  <div id=\"df-55a92ee9-5e31-4374-af4f-f5c140ed148d\">\n",
              "    <div class=\"colab-df-container\">\n",
              "      <div>\n",
              "<style scoped>\n",
              "    .dataframe tbody tr th:only-of-type {\n",
              "        vertical-align: middle;\n",
              "    }\n",
              "\n",
              "    .dataframe tbody tr th {\n",
              "        vertical-align: top;\n",
              "    }\n",
              "\n",
              "    .dataframe thead th {\n",
              "        text-align: right;\n",
              "    }\n",
              "</style>\n",
              "<table border=\"1\" class=\"dataframe\">\n",
              "  <thead>\n",
              "    <tr style=\"text-align: right;\">\n",
              "      <th></th>\n",
              "      <th>document</th>\n",
              "    </tr>\n",
              "  </thead>\n",
              "  <tbody>\n",
              "    <tr>\n",
              "      <th>0</th>\n",
              "      <td>자신의 생각을 불명확하게 표현하는 사람들은 생각도 불명확할 가능성이 높다  따라서 ...</td>\n",
              "    </tr>\n",
              "    <tr>\n",
              "      <th>1</th>\n",
              "      <td>주제가 아무리 복잡하고 어려울 지라도 필자가 주제에 대해 완벽하게 이해하고 있다면 ...</td>\n",
              "    </tr>\n",
              "    <tr>\n",
              "      <th>2</th>\n",
              "      <td>진로체험을 위해서 교사 외에도 인솔  안전 등의 일용직 인력이 필요하다  재정과 고...</td>\n",
              "    </tr>\n",
              "    <tr>\n",
              "      <th>3</th>\n",
              "      <td>는 최근에    법의 모순을 해결하기 위해 다섯가지를 제안했다 ...</td>\n",
              "    </tr>\n",
              "    <tr>\n",
              "      <th>4</th>\n",
              "      <td>에너지원별 소비 비중 중 전력비중은 지속적으로 증가하였고  이것은 원자력 발전 설비...</td>\n",
              "    </tr>\n",
              "    <tr>\n",
              "      <th>...</th>\n",
              "      <td>...</td>\n",
              "    </tr>\n",
              "    <tr>\n",
              "      <th>160019</th>\n",
              "      <td>한정애안과 양창영안은 등록제를 제안하고  장하나안과 유럽연합은 허가제 면허제를 도입...</td>\n",
              "    </tr>\n",
              "    <tr>\n",
              "      <th>160020</th>\n",
              "      <td>토지이용의 변화로 탄소가 풍부한 유출물 침전과 지표유출수 내 고형물 퇴적은 정비하천...</td>\n",
              "    </tr>\n",
              "    <tr>\n",
              "      <th>160021</th>\n",
              "      <td>는 이 외에도 여러 사업들을 진행하는데  대부분이 공동연구이다  약물 개발...</td>\n",
              "    </tr>\n",
              "    <tr>\n",
              "      <th>160022</th>\n",
              "      <td>국내는 평가기술에 대한 과학적 지식  경제성 분석  사회적 효과가 하나의 보고서 안...</td>\n",
              "    </tr>\n",
              "    <tr>\n",
              "      <th>160023</th>\n",
              "      <td>경제위기 발생 이후 대기업의     투자는 짧은 기간동안 소폭 감소하는데 그쳤으나 ...</td>\n",
              "    </tr>\n",
              "  </tbody>\n",
              "</table>\n",
              "<p>160024 rows × 1 columns</p>\n",
              "</div>\n",
              "      <button class=\"colab-df-convert\" onclick=\"convertToInteractive('df-55a92ee9-5e31-4374-af4f-f5c140ed148d')\"\n",
              "              title=\"Convert this dataframe to an interactive table.\"\n",
              "              style=\"display:none;\">\n",
              "        \n",
              "  <svg xmlns=\"http://www.w3.org/2000/svg\" height=\"24px\"viewBox=\"0 0 24 24\"\n",
              "       width=\"24px\">\n",
              "    <path d=\"M0 0h24v24H0V0z\" fill=\"none\"/>\n",
              "    <path d=\"M18.56 5.44l.94 2.06.94-2.06 2.06-.94-2.06-.94-.94-2.06-.94 2.06-2.06.94zm-11 1L8.5 8.5l.94-2.06 2.06-.94-2.06-.94L8.5 2.5l-.94 2.06-2.06.94zm10 10l.94 2.06.94-2.06 2.06-.94-2.06-.94-.94-2.06-.94 2.06-2.06.94z\"/><path d=\"M17.41 7.96l-1.37-1.37c-.4-.4-.92-.59-1.43-.59-.52 0-1.04.2-1.43.59L10.3 9.45l-7.72 7.72c-.78.78-.78 2.05 0 2.83L4 21.41c.39.39.9.59 1.41.59.51 0 1.02-.2 1.41-.59l7.78-7.78 2.81-2.81c.8-.78.8-2.07 0-2.86zM5.41 20L4 18.59l7.72-7.72 1.47 1.35L5.41 20z\"/>\n",
              "  </svg>\n",
              "      </button>\n",
              "      \n",
              "  <style>\n",
              "    .colab-df-container {\n",
              "      display:flex;\n",
              "      flex-wrap:wrap;\n",
              "      gap: 12px;\n",
              "    }\n",
              "\n",
              "    .colab-df-convert {\n",
              "      background-color: #E8F0FE;\n",
              "      border: none;\n",
              "      border-radius: 50%;\n",
              "      cursor: pointer;\n",
              "      display: none;\n",
              "      fill: #1967D2;\n",
              "      height: 32px;\n",
              "      padding: 0 0 0 0;\n",
              "      width: 32px;\n",
              "    }\n",
              "\n",
              "    .colab-df-convert:hover {\n",
              "      background-color: #E2EBFA;\n",
              "      box-shadow: 0px 1px 2px rgba(60, 64, 67, 0.3), 0px 1px 3px 1px rgba(60, 64, 67, 0.15);\n",
              "      fill: #174EA6;\n",
              "    }\n",
              "\n",
              "    [theme=dark] .colab-df-convert {\n",
              "      background-color: #3B4455;\n",
              "      fill: #D2E3FC;\n",
              "    }\n",
              "\n",
              "    [theme=dark] .colab-df-convert:hover {\n",
              "      background-color: #434B5C;\n",
              "      box-shadow: 0px 1px 3px 1px rgba(0, 0, 0, 0.15);\n",
              "      filter: drop-shadow(0px 1px 2px rgba(0, 0, 0, 0.3));\n",
              "      fill: #FFFFFF;\n",
              "    }\n",
              "  </style>\n",
              "\n",
              "      <script>\n",
              "        const buttonEl =\n",
              "          document.querySelector('#df-55a92ee9-5e31-4374-af4f-f5c140ed148d button.colab-df-convert');\n",
              "        buttonEl.style.display =\n",
              "          google.colab.kernel.accessAllowed ? 'block' : 'none';\n",
              "\n",
              "        async function convertToInteractive(key) {\n",
              "          const element = document.querySelector('#df-55a92ee9-5e31-4374-af4f-f5c140ed148d');\n",
              "          const dataTable =\n",
              "            await google.colab.kernel.invokeFunction('convertToInteractive',\n",
              "                                                     [key], {});\n",
              "          if (!dataTable) return;\n",
              "\n",
              "          const docLinkHtml = 'Like what you see? Visit the ' +\n",
              "            '<a target=\"_blank\" href=https://colab.research.google.com/notebooks/data_table.ipynb>data table notebook</a>'\n",
              "            + ' to learn more about interactive tables.';\n",
              "          element.innerHTML = '';\n",
              "          dataTable['output_type'] = 'display_data';\n",
              "          await google.colab.output.renderOutput(dataTable, element);\n",
              "          const docLink = document.createElement('div');\n",
              "          docLink.innerHTML = docLinkHtml;\n",
              "          element.appendChild(docLink);\n",
              "        }\n",
              "      </script>\n",
              "    </div>\n",
              "  </div>\n",
              "  "
            ]
          },
          "metadata": {},
          "execution_count": 57
        }
      ]
    },
    {
      "cell_type": "code",
      "source": [
        "modi_df.replace('', float('NaN'), inplace=True)\n",
        "modi_df.isnull().values.any()"
      ],
      "metadata": {
        "colab": {
          "base_uri": "https://localhost:8080/"
        },
        "id": "p_r1fj1CfuO2",
        "outputId": "dda23a8d-bc46-4edf-e1c9-03369e62d8cb"
      },
      "execution_count": 58,
      "outputs": [
        {
          "output_type": "execute_result",
          "data": {
            "text/plain": [
              "False"
            ]
          },
          "metadata": {},
          "execution_count": 58
        }
      ]
    },
    {
      "cell_type": "code",
      "source": [
        "# 전체 길이가 200 이하이거나 전체 단어 개수가 5개 이하인 데이터를 필터링\n",
        "processed_modi_df = processed_modi_df[processed_modi_df.document.apply(lambda x: len(str(x)) > 200 and len(str(x).split()) > 5)].reset_index(drop=True)\n",
        "processed_modi_df"
      ],
      "metadata": {
        "colab": {
          "base_uri": "https://localhost:8080/",
          "height": 424
        },
        "id": "nXSgy9UIgiVX",
        "outputId": "867946bf-f031-4ec6-a1b0-4d0c387f5cfa"
      },
      "execution_count": 59,
      "outputs": [
        {
          "output_type": "execute_result",
          "data": {
            "text/plain": [
              "                                                 document\n",
              "0       자신의 생각을 불명확하게 표현하는 사람들은 생각도 불명확할 가능성이 높다  따라서 ...\n",
              "1       주제가 아무리 복잡하고 어려울 지라도 필자가 주제에 대해 완벽하게 이해하고 있다면 ...\n",
              "2       진로체험을 위해서 교사 외에도 인솔  안전 등의 일용직 인력이 필요하다  재정과 고...\n",
              "3                  는 최근에    법의 모순을 해결하기 위해 다섯가지를 제안했다 ...\n",
              "4       에너지원별 소비 비중 중 전력비중은 지속적으로 증가하였고  이것은 원자력 발전 설비...\n",
              "...                                                   ...\n",
              "159998  위험요인을 보완하지 않은 상황에서 라식 수술에 표면절제술이 사용되었다면 각막혼탁이 ...\n",
              "159999  한정애안과 양창영안은 등록제를 제안하고  장하나안과 유럽연합은 허가제 면허제를 도입...\n",
              "160000  토지이용의 변화로 탄소가 풍부한 유출물 침전과 지표유출수 내 고형물 퇴적은 정비하천...\n",
              "160001       는 이 외에도 여러 사업들을 진행하는데  대부분이 공동연구이다  약물 개발...\n",
              "160002  국내는 평가기술에 대한 과학적 지식  경제성 분석  사회적 효과가 하나의 보고서 안...\n",
              "\n",
              "[160003 rows x 1 columns]"
            ],
            "text/html": [
              "\n",
              "  <div id=\"df-73dc8435-d15e-4d3a-b3a2-a8e99fd891ac\">\n",
              "    <div class=\"colab-df-container\">\n",
              "      <div>\n",
              "<style scoped>\n",
              "    .dataframe tbody tr th:only-of-type {\n",
              "        vertical-align: middle;\n",
              "    }\n",
              "\n",
              "    .dataframe tbody tr th {\n",
              "        vertical-align: top;\n",
              "    }\n",
              "\n",
              "    .dataframe thead th {\n",
              "        text-align: right;\n",
              "    }\n",
              "</style>\n",
              "<table border=\"1\" class=\"dataframe\">\n",
              "  <thead>\n",
              "    <tr style=\"text-align: right;\">\n",
              "      <th></th>\n",
              "      <th>document</th>\n",
              "    </tr>\n",
              "  </thead>\n",
              "  <tbody>\n",
              "    <tr>\n",
              "      <th>0</th>\n",
              "      <td>자신의 생각을 불명확하게 표현하는 사람들은 생각도 불명확할 가능성이 높다  따라서 ...</td>\n",
              "    </tr>\n",
              "    <tr>\n",
              "      <th>1</th>\n",
              "      <td>주제가 아무리 복잡하고 어려울 지라도 필자가 주제에 대해 완벽하게 이해하고 있다면 ...</td>\n",
              "    </tr>\n",
              "    <tr>\n",
              "      <th>2</th>\n",
              "      <td>진로체험을 위해서 교사 외에도 인솔  안전 등의 일용직 인력이 필요하다  재정과 고...</td>\n",
              "    </tr>\n",
              "    <tr>\n",
              "      <th>3</th>\n",
              "      <td>는 최근에    법의 모순을 해결하기 위해 다섯가지를 제안했다 ...</td>\n",
              "    </tr>\n",
              "    <tr>\n",
              "      <th>4</th>\n",
              "      <td>에너지원별 소비 비중 중 전력비중은 지속적으로 증가하였고  이것은 원자력 발전 설비...</td>\n",
              "    </tr>\n",
              "    <tr>\n",
              "      <th>...</th>\n",
              "      <td>...</td>\n",
              "    </tr>\n",
              "    <tr>\n",
              "      <th>159998</th>\n",
              "      <td>위험요인을 보완하지 않은 상황에서 라식 수술에 표면절제술이 사용되었다면 각막혼탁이 ...</td>\n",
              "    </tr>\n",
              "    <tr>\n",
              "      <th>159999</th>\n",
              "      <td>한정애안과 양창영안은 등록제를 제안하고  장하나안과 유럽연합은 허가제 면허제를 도입...</td>\n",
              "    </tr>\n",
              "    <tr>\n",
              "      <th>160000</th>\n",
              "      <td>토지이용의 변화로 탄소가 풍부한 유출물 침전과 지표유출수 내 고형물 퇴적은 정비하천...</td>\n",
              "    </tr>\n",
              "    <tr>\n",
              "      <th>160001</th>\n",
              "      <td>는 이 외에도 여러 사업들을 진행하는데  대부분이 공동연구이다  약물 개발...</td>\n",
              "    </tr>\n",
              "    <tr>\n",
              "      <th>160002</th>\n",
              "      <td>국내는 평가기술에 대한 과학적 지식  경제성 분석  사회적 효과가 하나의 보고서 안...</td>\n",
              "    </tr>\n",
              "  </tbody>\n",
              "</table>\n",
              "<p>160003 rows × 1 columns</p>\n",
              "</div>\n",
              "      <button class=\"colab-df-convert\" onclick=\"convertToInteractive('df-73dc8435-d15e-4d3a-b3a2-a8e99fd891ac')\"\n",
              "              title=\"Convert this dataframe to an interactive table.\"\n",
              "              style=\"display:none;\">\n",
              "        \n",
              "  <svg xmlns=\"http://www.w3.org/2000/svg\" height=\"24px\"viewBox=\"0 0 24 24\"\n",
              "       width=\"24px\">\n",
              "    <path d=\"M0 0h24v24H0V0z\" fill=\"none\"/>\n",
              "    <path d=\"M18.56 5.44l.94 2.06.94-2.06 2.06-.94-2.06-.94-.94-2.06-.94 2.06-2.06.94zm-11 1L8.5 8.5l.94-2.06 2.06-.94-2.06-.94L8.5 2.5l-.94 2.06-2.06.94zm10 10l.94 2.06.94-2.06 2.06-.94-2.06-.94-.94-2.06-.94 2.06-2.06.94z\"/><path d=\"M17.41 7.96l-1.37-1.37c-.4-.4-.92-.59-1.43-.59-.52 0-1.04.2-1.43.59L10.3 9.45l-7.72 7.72c-.78.78-.78 2.05 0 2.83L4 21.41c.39.39.9.59 1.41.59.51 0 1.02-.2 1.41-.59l7.78-7.78 2.81-2.81c.8-.78.8-2.07 0-2.86zM5.41 20L4 18.59l7.72-7.72 1.47 1.35L5.41 20z\"/>\n",
              "  </svg>\n",
              "      </button>\n",
              "      \n",
              "  <style>\n",
              "    .colab-df-container {\n",
              "      display:flex;\n",
              "      flex-wrap:wrap;\n",
              "      gap: 12px;\n",
              "    }\n",
              "\n",
              "    .colab-df-convert {\n",
              "      background-color: #E8F0FE;\n",
              "      border: none;\n",
              "      border-radius: 50%;\n",
              "      cursor: pointer;\n",
              "      display: none;\n",
              "      fill: #1967D2;\n",
              "      height: 32px;\n",
              "      padding: 0 0 0 0;\n",
              "      width: 32px;\n",
              "    }\n",
              "\n",
              "    .colab-df-convert:hover {\n",
              "      background-color: #E2EBFA;\n",
              "      box-shadow: 0px 1px 2px rgba(60, 64, 67, 0.3), 0px 1px 3px 1px rgba(60, 64, 67, 0.15);\n",
              "      fill: #174EA6;\n",
              "    }\n",
              "\n",
              "    [theme=dark] .colab-df-convert {\n",
              "      background-color: #3B4455;\n",
              "      fill: #D2E3FC;\n",
              "    }\n",
              "\n",
              "    [theme=dark] .colab-df-convert:hover {\n",
              "      background-color: #434B5C;\n",
              "      box-shadow: 0px 1px 3px 1px rgba(0, 0, 0, 0.15);\n",
              "      filter: drop-shadow(0px 1px 2px rgba(0, 0, 0, 0.3));\n",
              "      fill: #FFFFFF;\n",
              "    }\n",
              "  </style>\n",
              "\n",
              "      <script>\n",
              "        const buttonEl =\n",
              "          document.querySelector('#df-73dc8435-d15e-4d3a-b3a2-a8e99fd891ac button.colab-df-convert');\n",
              "        buttonEl.style.display =\n",
              "          google.colab.kernel.accessAllowed ? 'block' : 'none';\n",
              "\n",
              "        async function convertToInteractive(key) {\n",
              "          const element = document.querySelector('#df-73dc8435-d15e-4d3a-b3a2-a8e99fd891ac');\n",
              "          const dataTable =\n",
              "            await google.colab.kernel.invokeFunction('convertToInteractive',\n",
              "                                                     [key], {});\n",
              "          if (!dataTable) return;\n",
              "\n",
              "          const docLinkHtml = 'Like what you see? Visit the ' +\n",
              "            '<a target=\"_blank\" href=https://colab.research.google.com/notebooks/data_table.ipynb>data table notebook</a>'\n",
              "            + ' to learn more about interactive tables.';\n",
              "          element.innerHTML = '';\n",
              "          dataTable['output_type'] = 'display_data';\n",
              "          await google.colab.output.renderOutput(dataTable, element);\n",
              "          const docLink = document.createElement('div');\n",
              "          docLink.innerHTML = docLinkHtml;\n",
              "          element.appendChild(docLink);\n",
              "        }\n",
              "      </script>\n",
              "    </div>\n",
              "  </div>\n",
              "  "
            ]
          },
          "metadata": {},
          "execution_count": 59
        }
      ]
    },
    {
      "cell_type": "code",
      "source": [
        "import requests"
      ],
      "metadata": {
        "id": "s1m6I5lSgsDs"
      },
      "execution_count": 38,
      "outputs": []
    },
    {
      "cell_type": "code",
      "source": [
        "url = 'https://raw.githubusercontent.com/stopwords-iso/stopwords-ko/master/raw/ranksnl-korean.txt'\n",
        "response = requests.get(url)\n",
        "content = response.text\n",
        "stop_words = content.split('\\n')\n",
        "print(len(stop_words))\n",
        "print(stop_words[:10])"
      ],
      "metadata": {
        "colab": {
          "base_uri": "https://localhost:8080/"
        },
        "id": "-idmGXylg1iE",
        "outputId": "c20b2d84-a0bc-4523-ccab-7ee3ad5ea693"
      },
      "execution_count": 39,
      "outputs": [
        {
          "output_type": "stream",
          "name": "stdout",
          "text": [
            "677\n",
            "['아', '휴', '아이구', '아이쿠', '아이고', '어', '나', '우리', '저희', '따라']\n"
          ]
        }
      ]
    },
    {
      "cell_type": "code",
      "source": [
        "tokenized_doc = processed_modi_df['document'].apply(lambda x: x.split())\n",
        "tokenized_doc = tokenized_doc.apply(lambda x: [s_word for s_word in x if s_word not in stop_words])\n",
        "tokenized_doc"
      ],
      "metadata": {
        "colab": {
          "base_uri": "https://localhost:8080/"
        },
        "id": "2DptNBBbhtyk",
        "outputId": "2c8daefb-3310-414b-d80d-bebc08984c81"
      },
      "execution_count": 40,
      "outputs": [
        {
          "output_type": "execute_result",
          "data": {
            "text/plain": [
              "0         [자신의, 생각을, 불명확하게, 표현하는, 사람들은, 생각도, 불명확할, 가능성이,...\n",
              "1         [주제가, 아무리, 복잡하고, 어려울, 지라도, 필자가, 주제에, 대해, 완벽하게,...\n",
              "2         [진로체험을, 교사, 인솔, 안전, 등의, 일용직, 인력이, 필요하다, 재정과, 고...\n",
              "3         [는, 최근에, 법의, 모순을, 해결하기, 위해, 다섯가지를, 제안했다, 그녀가, ...\n",
              "4         [에너지원별, 소비, 비중, 중, 전력비중은, 지속적으로, 증가하였고, 이것은, 원...\n",
              "                                ...                        \n",
              "160019    [한정애안과, 양창영안은, 등록제를, 제안하고, 장하나안과, 유럽연합은, 허가제, ...\n",
              "160020    [토지이용의, 변화로, 탄소가, 풍부한, 유출물, 침전과, 지표유출수, 내, 고형물...\n",
              "160021    [는, 여러, 사업들을, 진행하는데, 대부분이, 공동연구이다, 약물, 개발, 관련,...\n",
              "160022    [국내는, 평가기술에, 대한, 과학적, 지식, 경제성, 분석, 사회적, 효과가, 하...\n",
              "160023    [경제위기, 발생, 이후, 대기업의, 투자는, 짧은, 기간동안, 소폭, 감소하는데,...\n",
              "Name: document, Length: 160024, dtype: object"
            ]
          },
          "metadata": {},
          "execution_count": 40
        }
      ]
    },
    {
      "cell_type": "code",
      "source": [
        "tokenized_doc = tokenized_doc.to_list()\n",
        "print(len(tokenized_doc))"
      ],
      "metadata": {
        "colab": {
          "base_uri": "https://localhost:8080/"
        },
        "id": "ngNOhxkTkjj8",
        "outputId": "f89c7e35-7488-494d-bb84-98ad1723929e"
      },
      "execution_count": 41,
      "outputs": [
        {
          "output_type": "stream",
          "name": "stdout",
          "text": [
            "160024\n"
          ]
        }
      ]
    },
    {
      "cell_type": "code",
      "source": [
        "from tensorflow.keras.preprocessing.text import Tokenizer"
      ],
      "metadata": {
        "id": "Wnjj4ZwxmBLZ"
      },
      "execution_count": 42,
      "outputs": []
    },
    {
      "cell_type": "code",
      "source": [
        "tokenizer = Tokenizer()"
      ],
      "metadata": {
        "id": "kLcvrWJSmDqK"
      },
      "execution_count": 43,
      "outputs": []
    },
    {
      "cell_type": "code",
      "source": [
        "tokenizer.fit_on_texts(tokenized_doc)"
      ],
      "metadata": {
        "id": "e2LyIcDDmE1U"
      },
      "execution_count": 44,
      "outputs": []
    },
    {
      "cell_type": "code",
      "source": [
        "word2idx = tokenizer.word_index\n",
        "idx2word = {value: key for key, value in word2idx.items()}\n",
        "encoded = tokenizer.texts_to_sequences(tokenized_doc)"
      ],
      "metadata": {
        "id": "vgqAXdMVmGQI"
      },
      "execution_count": 45,
      "outputs": []
    },
    {
      "cell_type": "code",
      "source": [
        "vocab_size = len(word2idx) + 1\n",
        "print(f'단어 사전의 크기: {vocab_size}')"
      ],
      "metadata": {
        "colab": {
          "base_uri": "https://localhost:8080/"
        },
        "id": "WmZTqU4bmLHr",
        "outputId": "94af77fb-2809-4ae2-cb0d-dde3b467fd41"
      },
      "execution_count": 46,
      "outputs": [
        {
          "output_type": "stream",
          "name": "stdout",
          "text": [
            "단어 사전의 크기: 1332508\n"
          ]
        }
      ]
    },
    {
      "cell_type": "code",
      "source": [
        "from tensorflow.keras.preprocessing.sequence import skipgrams"
      ],
      "metadata": {
        "id": "d9CsbnHNmeoQ"
      },
      "execution_count": 47,
      "outputs": []
    },
    {
      "cell_type": "code",
      "source": [
        "skip_grams = [skipgrams(sample, vocabulary_size=vocab_size, window_size=10) for sample in encoded[:5]]\n",
        "print(f'전체 샘플 수: {len(skip_grams)}')"
      ],
      "metadata": {
        "colab": {
          "base_uri": "https://localhost:8080/"
        },
        "id": "bi1Pdd5RrI1s",
        "outputId": "ba8b7aed-d4eb-4fc6-d995-20a5ac3186c4"
      },
      "execution_count": 60,
      "outputs": [
        {
          "output_type": "stream",
          "name": "stdout",
          "text": [
            "전체 샘플 수: 5\n"
          ]
        }
      ]
    },
    {
      "cell_type": "code",
      "source": [
        "# skip_grams[0]에 skipgrams로 형성된 데이터셋 확인\n",
        "pairs, labels = skip_grams[0][0], skip_grams[0][1]\n",
        "print(f'3 pairs: {pairs[:3]}')\n",
        "print(f'3 labels: {labels[:3]}')"
      ],
      "metadata": {
        "colab": {
          "base_uri": "https://localhost:8080/"
        },
        "id": "LLck207PrKyg",
        "outputId": "73637d49-d9c0-42b2-a4df-f0e3602747f2"
      },
      "execution_count": 61,
      "outputs": [
        {
          "output_type": "stream",
          "name": "stdout",
          "text": [
            "3 pairs: [[182381, 23], [5078, 1229804], [244, 282]]\n",
            "3 labels: [1, 0, 1]\n"
          ]
        }
      ]
    },
    {
      "cell_type": "code",
      "source": [
        "# 첫번째 뉴스 그룹 샘플에 대해 생긴 pairs와 labels의 개수\n",
        "print(len(pairs))\n",
        "print(len(labels))"
      ],
      "metadata": {
        "colab": {
          "base_uri": "https://localhost:8080/"
        },
        "id": "cyHoI9dHrL0k",
        "outputId": "4d33f953-c7c3-4eff-f27b-d3c31ee7717e"
      },
      "execution_count": 62,
      "outputs": [
        {
          "output_type": "stream",
          "name": "stdout",
          "text": [
            "3500\n",
            "3500\n"
          ]
        }
      ]
    },
    {
      "cell_type": "code",
      "source": [
        "for i in range(5):\n",
        "    print('({:s} ({:d}), {:s} ({:d})) -> {:d}'.format(\n",
        "        idx2word[pairs[i][0]], pairs[i][0],\n",
        "        idx2word[pairs[i][1]], pairs[i][1],\n",
        "        labels[i]\n",
        "    ))"
      ],
      "metadata": {
        "colab": {
          "base_uri": "https://localhost:8080/"
        },
        "id": "eHjxFOg7rPLy",
        "outputId": "5b448096-ff06-4571-cb55-272e9aa147aa"
      },
      "execution_count": 63,
      "outputs": [
        {
          "output_type": "stream",
          "name": "stdout",
          "text": [
            "(진술로는 (182381), 더 (23)) -> 1\n",
            "(표현하는 (5078), 음반이었다 (1229804)) -> 0\n",
            "(않는다 (244), 중요하다 (282)) -> 1\n",
            "(때에는 (1076), 사실관계 (23298)) -> 1\n",
            "(글은 (7081), 무력화 (44640)) -> 0\n"
          ]
        }
      ]
    },
    {
      "cell_type": "code",
      "source": [
        "training_dataset = [skipgrams(sample, vocabulary_size=vocab_size, window_size=10) for sample in encoded[:5000]]"
      ],
      "metadata": {
        "id": "5evM_d9FnIq3"
      },
      "execution_count": 48,
      "outputs": []
    },
    {
      "cell_type": "code",
      "source": [
        "from tensorflow.keras.models import Sequential, Model\n",
        "from tensorflow.keras.layers import Embedding, Reshape, Activation, Input, Dot"
      ],
      "metadata": {
        "id": "WfQGFlDZnK_l"
      },
      "execution_count": 49,
      "outputs": []
    },
    {
      "cell_type": "code",
      "source": [
        "embedding_dim = 100\n",
        "\n",
        "w_inputs = Input(shape=(1,), dtype='int32')\n",
        "word_embedding = Embedding(vocab_size, embedding_dim)(w_inputs)\n",
        "\n",
        "c_inputs = Input(shape=(1,), dtype='int32')\n",
        "context_embedding = Embedding(vocab_size, embedding_dim)(c_inputs)"
      ],
      "metadata": {
        "id": "vynoCM2znRjN"
      },
      "execution_count": 50,
      "outputs": []
    },
    {
      "cell_type": "code",
      "source": [
        "dot_product = Dot(axes=2)([word_embedding, context_embedding])\n",
        "dot_product = Reshape((1,), input_shape=(1, 1))(dot_product)\n",
        "output = Activation('sigmoid')(dot_product)\n",
        "\n",
        "model = Model(inputs = [w_inputs, c_inputs], outputs=output)\n",
        "model.summary()"
      ],
      "metadata": {
        "colab": {
          "base_uri": "https://localhost:8080/"
        },
        "id": "SjLQOYCXnThi",
        "outputId": "30306fb2-d8bd-4bcd-f3d3-d93bb02071b5"
      },
      "execution_count": 51,
      "outputs": [
        {
          "output_type": "stream",
          "name": "stdout",
          "text": [
            "Model: \"model\"\n",
            "__________________________________________________________________________________________________\n",
            " Layer (type)                   Output Shape         Param #     Connected to                     \n",
            "==================================================================================================\n",
            " input_1 (InputLayer)           [(None, 1)]          0           []                               \n",
            "                                                                                                  \n",
            " input_2 (InputLayer)           [(None, 1)]          0           []                               \n",
            "                                                                                                  \n",
            " embedding (Embedding)          (None, 1, 100)       133250800   ['input_1[0][0]']                \n",
            "                                                                                                  \n",
            " embedding_1 (Embedding)        (None, 1, 100)       133250800   ['input_2[0][0]']                \n",
            "                                                                                                  \n",
            " dot (Dot)                      (None, 1, 1)         0           ['embedding[0][0]',              \n",
            "                                                                  'embedding_1[0][0]']            \n",
            "                                                                                                  \n",
            " reshape (Reshape)              (None, 1)            0           ['dot[0][0]']                    \n",
            "                                                                                                  \n",
            " activation (Activation)        (None, 1)            0           ['reshape[0][0]']                \n",
            "                                                                                                  \n",
            "==================================================================================================\n",
            "Total params: 266,501,600\n",
            "Trainable params: 266,501,600\n",
            "Non-trainable params: 0\n",
            "__________________________________________________________________________________________________\n"
          ]
        }
      ]
    },
    {
      "cell_type": "code",
      "source": [
        "model.compile(loss='binary_crossentropy', optimizer='adam')"
      ],
      "metadata": {
        "id": "9HGGMGcQnWJS"
      },
      "execution_count": 52,
      "outputs": []
    },
    {
      "cell_type": "code",
      "source": [
        "for epoch in range(100):\n",
        "    loss = 0\n",
        "    for _, elem in enumerate(skip_grams):\n",
        "        first_elem = np.array(list(zip(*elem[0]))[0], dtype='int32')\n",
        "        second_elem = np.array(list(zip(*elem[0]))[1], dtype='int32')\n",
        "        labels = np.array(elem[1], dtype='int32')\n",
        "        X = [first_elem, second_elem]\n",
        "        Y = labels\n",
        "        loss += model.train_on_batch(X, Y)\n",
        "    print('Epoch: ', epoch+1, 'Loss: ', loss)"
      ],
      "metadata": {
        "colab": {
          "base_uri": "https://localhost:8080/"
        },
        "id": "cB6pvHxpnY73",
        "outputId": "8cfc0870-9c96-454f-e6e3-480ae3330adb"
      },
      "execution_count": 64,
      "outputs": [
        {
          "output_type": "stream",
          "name": "stdout",
          "text": [
            "Epoch:  1 Loss:  3.241704046726227\n",
            "Epoch:  2 Loss:  3.115536153316498\n",
            "Epoch:  3 Loss:  2.9535412788391113\n",
            "Epoch:  4 Loss:  2.7707974314689636\n",
            "Epoch:  5 Loss:  2.5741715729236603\n",
            "Epoch:  6 Loss:  2.3692758679389954\n",
            "Epoch:  7 Loss:  2.161657601594925\n",
            "Epoch:  8 Loss:  1.9566141664981842\n",
            "Epoch:  9 Loss:  1.7588048577308655\n",
            "Epoch:  10 Loss:  1.5719622671604156\n",
            "Epoch:  11 Loss:  1.3987566828727722\n",
            "Epoch:  12 Loss:  1.2408013343811035\n",
            "Epoch:  13 Loss:  1.0987605452537537\n",
            "Epoch:  14 Loss:  0.9725204557180405\n",
            "Epoch:  15 Loss:  0.8613850027322769\n",
            "Epoch:  16 Loss:  0.7642670720815659\n",
            "Epoch:  17 Loss:  0.6798555552959442\n",
            "Epoch:  18 Loss:  0.6067495420575142\n",
            "Epoch:  19 Loss:  0.5435565039515495\n",
            "Epoch:  20 Loss:  0.48895829916000366\n",
            "Epoch:  21 Loss:  0.44174985587596893\n",
            "Epoch:  22 Loss:  0.4008578881621361\n",
            "Epoch:  23 Loss:  0.3653446435928345\n",
            "Epoch:  24 Loss:  0.3344024457037449\n",
            "Epoch:  25 Loss:  0.30734316259622574\n",
            "Epoch:  26 Loss:  0.28358468040823936\n",
            "Epoch:  27 Loss:  0.2626369521021843\n",
            "Epoch:  28 Loss:  0.2440887615084648\n",
            "Epoch:  29 Loss:  0.22759530693292618\n",
            "Epoch:  30 Loss:  0.21286753192543983\n",
            "Epoch:  31 Loss:  0.19966274872422218\n",
            "Epoch:  32 Loss:  0.1877768337726593\n",
            "Epoch:  33 Loss:  0.17703766375780106\n",
            "Epoch:  34 Loss:  0.16729959286749363\n",
            "Epoch:  35 Loss:  0.15843899361789227\n",
            "Epoch:  36 Loss:  0.15035053715109825\n",
            "Epoch:  37 Loss:  0.14294414222240448\n",
            "Epoch:  38 Loss:  0.13614247366786003\n",
            "Epoch:  39 Loss:  0.12987886741757393\n",
            "Epoch:  40 Loss:  0.12409567087888718\n",
            "Epoch:  41 Loss:  0.1187427993863821\n",
            "Epoch:  42 Loss:  0.11377660930156708\n",
            "Epoch:  43 Loss:  0.10915891826152802\n",
            "Epoch:  44 Loss:  0.1048562228679657\n",
            "Epoch:  45 Loss:  0.10083900205790997\n",
            "Epoch:  46 Loss:  0.09708118066191673\n",
            "Epoch:  47 Loss:  0.09355966001749039\n",
            "Epoch:  48 Loss:  0.09025389701128006\n",
            "Epoch:  49 Loss:  0.08714557811617851\n",
            "Epoch:  50 Loss:  0.08421833999454975\n",
            "Epoch:  51 Loss:  0.08145751338452101\n",
            "Epoch:  52 Loss:  0.07884991448372602\n",
            "Epoch:  53 Loss:  0.0763836819678545\n",
            "Epoch:  54 Loss:  0.07404809817671776\n",
            "Epoch:  55 Loss:  0.07183346711099148\n",
            "Epoch:  56 Loss:  0.06973099987953901\n",
            "Epoch:  57 Loss:  0.06773271225392818\n",
            "Epoch:  58 Loss:  0.06583132781088352\n",
            "Epoch:  59 Loss:  0.06402022764086723\n",
            "Epoch:  60 Loss:  0.0622933404520154\n",
            "Epoch:  61 Loss:  0.06064513139426708\n",
            "Epoch:  62 Loss:  0.05907050706446171\n",
            "Epoch:  63 Loss:  0.05756480433046818\n",
            "Epoch:  64 Loss:  0.05612372886389494\n",
            "Epoch:  65 Loss:  0.05474331695586443\n",
            "Epoch:  66 Loss:  0.05341992899775505\n",
            "Epoch:  67 Loss:  0.05215018708258867\n",
            "Epoch:  68 Loss:  0.05093097034841776\n",
            "Epoch:  69 Loss:  0.049759392626583576\n",
            "Epoch:  70 Loss:  0.048632776364684105\n",
            "Epoch:  71 Loss:  0.04754863120615482\n",
            "Epoch:  72 Loss:  0.046504645608365536\n",
            "Epoch:  73 Loss:  0.04549866449087858\n",
            "Epoch:  74 Loss:  0.044528684578835964\n",
            "Epoch:  75 Loss:  0.04359283670783043\n",
            "Epoch:  76 Loss:  0.04268937185406685\n",
            "Epoch:  77 Loss:  0.04181665787473321\n",
            "Epoch:  78 Loss:  0.04097316926345229\n",
            "Epoch:  79 Loss:  0.04015747690573335\n",
            "Epoch:  80 Loss:  0.039368240628391504\n",
            "Epoch:  81 Loss:  0.03860419988632202\n",
            "Epoch:  82 Loss:  0.03786417981609702\n",
            "Epoch:  83 Loss:  0.03714706841856241\n",
            "Epoch:  84 Loss:  0.03645182680338621\n",
            "Epoch:  85 Loss:  0.03577747056260705\n",
            "Epoch:  86 Loss:  0.0351230762898922\n",
            "Epoch:  87 Loss:  0.03448777133598924\n",
            "Epoch:  88 Loss:  0.03387073986232281\n",
            "Epoch:  89 Loss:  0.03327120142057538\n",
            "Epoch:  90 Loss:  0.03268842538818717\n",
            "Epoch:  91 Loss:  0.03212171886116266\n",
            "Epoch:  92 Loss:  0.03157042805105448\n",
            "Epoch:  93 Loss:  0.031033936887979507\n",
            "Epoch:  94 Loss:  0.03051165398210287\n",
            "Epoch:  95 Loss:  0.030003024265170097\n",
            "Epoch:  96 Loss:  0.029507523402571678\n",
            "Epoch:  97 Loss:  0.02902464848011732\n",
            "Epoch:  98 Loss:  0.028553927782922983\n",
            "Epoch:  99 Loss:  0.028094907756894827\n",
            "Epoch:  100 Loss:  0.027647160924971104\n"
          ]
        }
      ]
    },
    {
      "cell_type": "code",
      "source": [
        "import gensim"
      ],
      "metadata": {
        "id": "KE3k8-rYnbDw"
      },
      "execution_count": 65,
      "outputs": []
    },
    {
      "cell_type": "code",
      "source": [
        "f = open('vectors.txt', 'w')\n",
        "f.write('{} {}\\n'.format(vocab_size-1, embedding_dim))\n",
        "vectors = model.get_weights()[0]\n",
        "# print(vectors)\n",
        "for word, i in tokenizer.word_index.items():\n",
        "    f.write('{} {}\\n'.format(word, ' '.join(map(str, list(vectors[i, :])))))\n",
        "f.close()"
      ],
      "metadata": {
        "id": "WCW2emM2nf-8"
      },
      "execution_count": 66,
      "outputs": []
    },
    {
      "cell_type": "code",
      "source": [
        "w2v = gensim.models.KeyedVectors.load_word2vec_format('./vectors.txt', binary=False)"
      ],
      "metadata": {
        "id": "zBgH5stUniNz"
      },
      "execution_count": 67,
      "outputs": []
    },
    {
      "cell_type": "code",
      "source": [
        "w2v.most_similar(positive=['판사'])"
      ],
      "metadata": {
        "colab": {
          "base_uri": "https://localhost:8080/"
        },
        "id": "o9MlNLlZnjWu",
        "outputId": "7e4e1727-0e26-4ec0-a75f-66b685bba9b7"
      },
      "execution_count": 68,
      "outputs": [
        {
          "output_type": "execute_result",
          "data": {
            "text/plain": [
              "[('사업처', 0.48221129179000854),\n",
              " ('중시정책과', 0.47986915707588196),\n",
              " ('현저해진', 0.4628787636756897),\n",
              " ('배태조직별로', 0.4365486800670624),\n",
              " ('보육프로그램에', 0.43554067611694336),\n",
              " ('법전엔', 0.4334363043308258),\n",
              " ('성인방송에', 0.43273502588272095),\n",
              " ('용접로봇응용', 0.42965829372406006),\n",
              " ('감소해서', 0.4272952377796173),\n",
              " ('설치수준을', 0.42571014165878296)]"
            ]
          },
          "metadata": {},
          "execution_count": 68
        }
      ]
    },
    {
      "cell_type": "code",
      "source": [],
      "metadata": {
        "id": "BHqgke--nlxt"
      },
      "execution_count": null,
      "outputs": []
    }
  ]
}